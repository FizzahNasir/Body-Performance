{
 "cells": [
  {
   "cell_type": "code",
   "execution_count": 1,
   "metadata": {
    "id": "GWcW8_hxLE8l"
   },
   "outputs": [],
   "source": [
    "## Name:Fizzah Nasir\n",
    "## Roll Number:261927366"
   ]
  },
  {
   "cell_type": "code",
   "execution_count": 120,
   "metadata": {},
   "outputs": [],
   "source": [
    "%matplotlib inline"
   ]
  },
  {
   "cell_type": "markdown",
   "metadata": {
    "id": "CIKhEVgBLE8n"
   },
   "source": [
    "# **Programming Assignment 02**\n",
    "\n",
    "\n",
    "### Introduction\n",
    "\n",
    "In this assignment, you will be creating your first Machine Learning model from scratch: K-Nearest Neighbors.\n",
    "\n",
    "This algorithm is one of the simpler ones you will come across, but the ideas can be applied to large-scale sophisticated systems: Semantic Search and Recommendation Systems for starters.\n",
    "\n",
    "For this assignment, you will be creating your own KNN-classifier from scratch using `numpy`.\n",
    "\n",
    "You are provided with the body performance dataset and will need to:\n",
    "- Implement the KNN algorithm from scratch (Part 1)\n",
    "- Evaluate its performance using cross-validation and different distance metrics\n",
    "- Compare your implementation with a built-in version from `sklearn` (Part 2)\n",
    "\n",
    "### Instructions\n",
    "\n",
    "- Follow along with the notebook, filling out the necessary code where instructed.\n",
    "\n",
    "- <span style=\"color: red;\">Read the Plagiarism Policy of FCCU.</span>\n",
    "\n",
    "- <span style=\"color: red;\">Make sure to run all cells for credit.</span>\n",
    "\n",
    "- <span style=\"color: red;\">Do not remove any pre-written code.</span> We will be using the `print` statements to grade your assignment.\n",
    "\n",
    "- <span style=\"color: red;\">You must attempt all parts.</span> Do not assume that because something is for 0 marks, you can leave it - it will definitely be used in later parts.\n",
    "\n",
    "- <span style=\"color: red;\">Do not use unauthorized libraries.</span> You are not allowed to use `sklearn` in Part 1. Failure to follow these instructions will result in a serious penalty."
   ]
  },
  {
   "cell_type": "markdown",
   "metadata": {
    "id": "NpCSSw9BLE8o"
   },
   "source": [
    "## **Part 1: K-Nearest Neighbors (KNN) from Scratch [75 marks]**\n",
    "In this you will implement the K-Nearest Neighbors (KNN) algorithm from scratch and apply it to the dataset.\n",
    "\n",
    "## Dataset: Body Performance Dataset\n",
    "    age : 20 ~64\n",
    "    gender : F,M\n",
    "    height_cm : (If you want to convert to feet, divide by 30.48)\n",
    "    weight_kg\n",
    "    body fat_%\n",
    "    diastolic : diastolic blood pressure (min)\n",
    "    systolic : systolic blood pressure (min)\n",
    "    gripForce\n",
    "    sit and bend forward_cm\n",
    "    sit-ups counts\n",
    "    broad jump_cm\n",
    "    class : A,B,C,D ( A: best) / stratified\n",
    "\n",
    "## Tasks for Part 1\n",
    "- Load the dataset\n",
    "- Implement a train-test split\n",
    "- Implement the Euclidean and Manhattan distance function\n",
    "- Write the k-NN classifier\n",
    "- Evaluate the accuracy\n",
    "- Display Results\n",
    "\n",
    "Again, you are <span style=\"color: red;\">not allowed</span> to use scikit-learn or any other machine learning toolkit for this part. You have to implement your own k-NN classifier from scratch.\n",
    "\n",
    "You can use the following libraries for this part or other standard python libraries:\n",
    "- `numpy` for numerical operations\n",
    "- `pandas` for dataset handling\n",
    "- `matplotlib` for plotting the results\n",
    "\n",
    "### Importing Libraries"
   ]
  },
  {
   "cell_type": "code",
   "execution_count": 121,
   "metadata": {
    "id": "XUejR6YqLE8o"
   },
   "outputs": [],
   "source": [
    "import numpy as np\n",
    "import pandas as pd\n",
    "import matplotlib.pyplot as plt"
   ]
  },
  {
   "cell_type": "markdown",
   "metadata": {
    "id": "c1qb9UM5LE8p"
   },
   "source": [
    "## Step 1: Load the Body Performance Dataset\n",
    "You can use the `pandas` library to load the CSV file but the final dataset should be stored in a `numpy` array.\n",
    "\n",
    "`Features:` age, gender , height_cm, weight_kg, body fat_%, diastolic, systolic, gripForce, sit and bend forward_cm, sit-ups counts, broad jump_cm\n",
    "\n",
    "\n",
    "`Labels:` class : A,B,C,D ( A: best) / stratified"
   ]
  },
  {
   "cell_type": "code",
   "execution_count": 124,
   "metadata": {
    "id": "Nh0neGJkLE8p"
   },
   "outputs": [
    {
     "name": "stdout",
     "output_type": "stream",
     "text": [
      "First 5 rows of the dataset:\n",
      "    age  gender  height_cm  weight_kg  body fat_%  diastolic  systolic  \\\n",
      "0  27.0       1      172.3      75.24        21.3       80.0     130.0   \n",
      "1  25.0       1      165.0      55.80        15.7       77.0     126.0   \n",
      "2  31.0       1      179.6      78.00        20.1       92.0     152.0   \n",
      "3  32.0       1      174.5      71.10        18.4       76.0     147.0   \n",
      "4  28.0       1      173.8      67.70        17.1       70.0     127.0   \n",
      "\n",
      "   gripForce  sit and bend forward_cm  sit-ups counts  broad jump_cm  class  \n",
      "0       54.9                     18.4            60.0          217.0      2  \n",
      "1       36.4                     16.3            53.0          229.0      0  \n",
      "2       44.8                     12.0            49.0          181.0      2  \n",
      "3       41.4                     15.2            53.0          219.0      1  \n",
      "4       43.5                     27.1            45.0          217.0      1  \n"
     ]
    }
   ],
   "source": [
    "# Load the dataset (replace 'bodyPerformance.csv' with your file path)\n",
    "data = pd.read_csv('bodyPerformance.csv')\n",
    "\n",
    "data['gender'] = data['gender'].map({'F': 0, 'M': 1})\n",
    "data['class'] = data['class'].map({'A': 0, 'B': 1, 'C': 2, 'D': 3})\n",
    "\n",
    "features = data.drop('class', axis=1).values\n",
    "labels = data['class'].values\n",
    "\n",
    "# Display first 5 rows\n",
    "print(\"First 5 rows of the dataset:\")\n",
    "print(data.head())"
   ]
  },
  {
   "cell_type": "markdown",
   "metadata": {
    "id": "66B-4dr9LE8p"
   },
   "source": [
    "## Step 2: Train-Test Split\n",
    "You can use the `numpy` to manually split the dataset into training and testing sets (80% train, 20% test). You can shuffle the dataset randomly to avoid any bias in splitting. Separate features and labels to ensure that the model learns only from the input data and that its performance can be evaluated objectively on unseen data."
   ]
  },
  {
   "cell_type": "code",
   "execution_count": 145,
   "metadata": {
    "id": "T11kAIj1LE8p"
   },
   "outputs": [
    {
     "name": "stdout",
     "output_type": "stream",
     "text": [
      "X_train:\n",
      " [[ 27.    1.  172.3 ...  18.4  60.  217. ]\n",
      " [ 25.    1.  165.  ...  16.3  53.  229. ]\n",
      " [ 31.    1.  179.6 ...  12.   49.  181. ]\n",
      " ...\n",
      " [ 28.    1.  166.  ...  20.6  55.  223. ]\n",
      " [ 29.    1.  166.8 ...  23.5  63.  223. ]\n",
      " [ 56.    1.  166.3 ...  15.8  29.  195. ]]\n",
      "y_train:\n",
      " [2 0 2 ... 0 0 1]\n",
      "X_test:\n",
      " [[ 29.    1.  170.9 ...  18.8  40.  227. ]\n",
      " [ 29.    0.  165.6 ...  15.8  39.  157. ]\n",
      " [ 30.    1.  171.6 ...  15.1  67.  181. ]\n",
      " ...\n",
      " [ 39.    1.  177.2 ...  16.4  45.  229. ]\n",
      " [ 64.    0.  146.1 ...   9.2   0.   75. ]\n",
      " [ 34.    1.  164.  ...   7.1  51.  180. ]]\n",
      "y_test:\n",
      " [2 1 0 ... 0 3 2]\n",
      "Training features shape: (10714, 11)\n",
      "Training labels shape: (10714,)\n",
      "Testing features shape: (2679, 11)\n",
      "Testing labels shape: (2679,)\n"
     ]
    }
   ],
   "source": [
    "# Shuffle the dataset (Optional)\n",
    "data = data.sample(frac = 1).reset_index(drop=True)\n",
    "# Split 80% for training and 20% for testing\n",
    "split_idx = int(0.8 * len(features))\n",
    "\n",
    "# Separate features and labels for both train and test data\n",
    "X_train, X_test = features[:split_idx], features[split_idx:]\n",
    "y_train, y_test = labels[:split_idx], labels[split_idx:]\n",
    "\n",
    "# Print the 4 arrays\n",
    "print(\"X_train:\\n\",X_train)\n",
    "print(\"y_train:\\n\",y_train)\n",
    "\n",
    "print(\"X_test:\\n\",X_test)\n",
    "print(\"y_test:\\n\",y_test)\n",
    "\n",
    "print(f\"Training features shape: {X_train.shape}\")\n",
    "print(f\"Training labels shape: {y_train.shape}\")\n",
    "print(f\"Testing features shape: {X_test.shape}\")\n",
    "print(f\"Testing labels shape: {y_test.shape}\")"
   ]
  },
  {
   "cell_type": "markdown",
   "metadata": {
    "id": "VqtXxHX6LE8p"
   },
   "source": [
    "## Step 3: Implement Distance Function\n",
    "\n",
    "Implement separate functions for the Euclidean and Manhattan distances. Formulas for both are given below.\n",
    "\n",
    "$$\n",
    "d_{\\text{Euclidean}}(\\vec{p},\\vec{q}) = \\sqrt{(p_1 - q_1)^2 + (p_2 - q_2)^2 + (p_3 - q_3)^2 + ... + (p_n - q_n)^2}\n",
    "$$\n",
    "\n",
    "$$\n",
    "d_{\\text{Manhattan}}(\\vec{p},\\vec{q}) = |(p_1 - q_1)| + |(p_2 - q_2)| + |(p_3 - q_3)| + ... + |(p_n - q_n)|\n",
    "$$"
   ]
  },
  {
   "cell_type": "code",
   "execution_count": 146,
   "metadata": {
    "id": "pgkoaMolLE8p"
   },
   "outputs": [],
   "source": [
    "# Implement the euclidean distance function\n",
    "\n",
    "def euclidean_distance(vector1,vector2):\n",
    "\n",
    "    return np.sqrt(np.sum((vector1 - vector2) ** 2))\n",
    "\n",
    "# Implement the Manhattan distance function\n",
    "\n",
    "def manhattan_distance(vector1,vector2):\n",
    "\n",
    "    return np.sum(np.abs(vector1 - vector2))"
   ]
  },
  {
   "cell_type": "code",
   "execution_count": 148,
   "metadata": {},
   "outputs": [
    {
     "name": "stdout",
     "output_type": "stream",
     "text": [
      "euclidean_distances:\n",
      " [(10635, np.float64(140.5199615713013)), (5496, np.float64(91.76360934488137)), (13055, np.float64(75.00919943580254)), (11826, np.float64(44.501123581320954)), (1326, np.float64(55.05297448821453))]\n"
     ]
    }
   ],
   "source": [
    "test_point = x_test.iloc[0]\n",
    "distances_euclidean = []\n",
    "for index, train_point in x_train.iterrows():\n",
    "    distance = euclidean_distance(test_point, train_point)\n",
    "    distances_euclidean.append((index, distance)) \n",
    "print(\"euclidean_distances:\\n\",distances_euclidean[0:5])\n",
    "\n",
    "\n"
   ]
  },
  {
   "cell_type": "code",
   "execution_count": 149,
   "metadata": {},
   "outputs": [
    {
     "name": "stdout",
     "output_type": "stream",
     "text": [
      "Euclidean: 5.196152422706632\n",
      "Manhattan: 9\n"
     ]
    }
   ],
   "source": [
    "v1 = np.array([1, 2, 3])\n",
    "v2 = np.array([4, 5, 6])\n",
    "print(\"Euclidean:\", euclidean_distance(v1, v2))\n",
    "print(\"Manhattan:\", manhattan_distance(v1, v2))"
   ]
  },
  {
   "cell_type": "code",
   "execution_count": 150,
   "metadata": {},
   "outputs": [
    {
     "name": "stdout",
     "output_type": "stream",
     "text": [
      "manhattan_distances:\n",
      " [(10635, np.float64(140.5199615713013)), (5496, np.float64(91.76360934488137)), (13055, np.float64(75.00919943580254)), (11826, np.float64(44.501123581320954)), (1326, np.float64(55.05297448821453))]\n"
     ]
    }
   ],
   "source": [
    "test_point = x_test.iloc[0]\n",
    "distances_manhattan = []\n",
    "for index, train_point in x_train.iterrows():\n",
    "    distance = euclidean_distance(test_point, train_point)\n",
    "    distances_manhattan.append((index, distance)) \n",
    "print(\"manhattan_distances:\\n\",distances_manhattan[0:5])"
   ]
  },
  {
   "cell_type": "markdown",
   "metadata": {
    "id": "Cp1BvDpsLE8p"
   },
   "source": [
    "## Step 4: k-NN Classifier methods\n",
    "\n",
    "Complete the following method functions:\n",
    "\n",
    "1. `fit`\n",
    "\n",
    "2. `get_neighbours`\n",
    "\n",
    "\n",
    "3. `predict`\n",
    "\n",
    "You can make as many helper functions as you need.\n"
   ]
  },
  {
   "cell_type": "code",
   "execution_count": 151,
   "metadata": {},
   "outputs": [],
   "source": [
    "class KNNClassifier:\n",
    "    def __init__(self, k=3, distance_metric=euclidean_distance):\n",
    "        \"\"\"\n",
    "        Initialize the k-NN classifier with the value of k.\n",
    "\n",
    "        Parameters:\n",
    "        k (int): Number of nearest neighbors to consider.\n",
    "        \"\"\"\n",
    "\n",
    "\n",
    "        self.k = k\n",
    "        self.distance_metric = distance_metric\n",
    "        self.X_train = None\n",
    "        self.y_train = None\n",
    "    \n",
    "    def fit(self, X, y):\n",
    "        self.X_train = X\n",
    "        self.y_train = y\n",
    "    \n",
    "    def get_neighbours(self, test_point):\n",
    "        distances = []\n",
    "        for i, x in enumerate(self.X_train):\n",
    "            dist = self.distance_metric(test_point, x)\n",
    "            distances.append((dist, self.y_train[i]))\n",
    "        distances.sort(key=lambda x: x[0])\n",
    "        neighbours = [dist[1] for dist in distances[:self.k]]\n",
    "        return neighbours\n",
    "    \n",
    "    def predict(self, X_test):\n",
    "        predictions = []\n",
    "        for x in X_test:\n",
    "            neighbours = self.get_neighbours(x)\n",
    "            counts = np.bincount(neighbours)\n",
    "            pred = np.argmax(counts)\n",
    "            predictions.append(pred)\n",
    "        return np.array(predictions)"
   ]
  },
  {
   "cell_type": "code",
   "execution_count": 152,
   "metadata": {
    "id": "rTwotEfULE8q"
   },
   "outputs": [],
   "source": [
    "def fit(self, features, labels):\n",
    "        \"\"\"\n",
    "        Store the training data (features and labels).\n",
    "\n",
    "        Parameters:\n",
    "        features (ndarray): The feature matrix of the training data.\n",
    "        labels (ndarray): The labels corresponding to the training data.\n",
    "        \"\"\"\n",
    "\n",
    "        self.X_train = features\n",
    "        self.y_train = labels"
   ]
  },
  {
   "cell_type": "code",
   "execution_count": 153,
   "metadata": {
    "id": "PheKElDkLE8q"
   },
   "outputs": [],
   "source": [
    "def get_neighbours(self, test_point):\n",
    "        \"\"\"\n",
    "        Find the k-nearest neighbors of the test point based on Euclidean distance.\n",
    "\n",
    "        Parameters:\n",
    "        test_point (ndarray): A single test data point for which neighbors are to be found.\n",
    "\n",
    "        Returns:\n",
    "        k_neighbors (list): The k nearest neighbors' labels.\n",
    "        \"\"\"\n",
    "        distances = []\n",
    "        for i, x in enumerate(self.X_train):\n",
    "            dist = self.distance_metric(test_point, x)\n",
    "            distances.append((dist, self.y_train[i]))\n",
    "        distances.sort(key=lambda x: x[0])\n",
    "        neighbours = [dist[1] for dist in distances[:self.k]]\n",
    "        return neighbours"
   ]
  },
  {
   "cell_type": "code",
   "execution_count": 154,
   "metadata": {
    "id": "hmYriAGqLE8q"
   },
   "outputs": [],
   "source": [
    "def predict(self, test_data):\n",
    "        \"\"\"\n",
    "        Predict the class labels for the test data.\n",
    "\n",
    "        Parameters:\n",
    "        test_data (ndarray): The feature matrix of the test data.\n",
    "\n",
    "        Returns:\n",
    "        predictions (list): The predicted class labels for each test data point.\n",
    "        \"\"\"\n",
    "        predictions = []\n",
    "        for x in X_test:\n",
    "            neighbours = self.get_neighbours(x)\n",
    "            counts = np.bincount(neighbours)\n",
    "            pred = np.argmax(counts)\n",
    "            predictions.append(pred)\n",
    "        return np.array(predictions)"
   ]
  },
  {
   "cell_type": "markdown",
   "metadata": {
    "id": "pe_BysI6LE8q"
   },
   "source": [
    "## Step 5: Evaluating the Model\n",
    "\n",
    "Now that you've created a model and \"trained\" it, you can move on to the Evaluation phase.\n",
    "\n",
    "- Implement an `evaluate` function that computes the Confusion Matrix, Accuracy, and Macro-Average F1 score of your classifier.\n",
    "- The function should take as input the predicted labels and the true labels. This will be built in steps: its easier to create a Confusion Matrix, then calculate things like the Precision, Recall and F1 from it.\n",
    "\n",
    "- We will also implement a function that displays our confusion matrix as a heatmap annotated with the data values.\n",
    "- The axes should be properly labelled and the colormap used needs to be shown next to the heatmap.\n",
    "- You can have a look at some examples of heatmaps [here](https://seaborn.pydata.org/generated/seaborn.heatmap.html). (You don't have to use the seaborn libray, but it has some pretty colour palettes to choose from.)\n",
    "\n",
    "We recommend that you do not use hard coding in this function."
   ]
  },
  {
   "cell_type": "code",
   "execution_count": 155,
   "metadata": {
    "id": "a1O0p6mMLE8q"
   },
   "outputs": [],
   "source": [
    "# Implement a function to calculate accuracy\n",
    "\n",
    "def calculate_accuracy(predicted_labels, true_labels):\n",
    "    '''\n",
    "    Returns the accuracy of the predictions against the true labels\n",
    "\n",
    "    Parameters\n",
    "    ----------\n",
    "    predicted_labels : array\n",
    "\n",
    "    true_labels : array\n",
    "    \"\"\"\n",
    "    '''\n",
    "    return np.mean(np.array(predicted_labels) == np.array(true_labels))"
   ]
  },
  {
   "cell_type": "code",
   "execution_count": 156,
   "metadata": {},
   "outputs": [
    {
     "name": "stdout",
     "output_type": "stream",
     "text": [
      "Confusion Matrix:\n",
      "               Pred Healthy  Pred Mild  Pred Moderate  Pred Severe\n",
      "True Healthy             13          7              0            0\n",
      "True Mild                 9          7             10            0\n",
      "True Moderate             0          7              7           10\n",
      "True Severe               0          0             13           17\n"
     ]
    }
   ],
   "source": [
    "import numpy as np\n",
    "import pandas as pd\n",
    "\n",
    "# Your original function\n",
    "def make_confusion_matrix(predicted, true):\n",
    "    '''\n",
    "    Computes the confusion matrix as a 2D array\n",
    "    \n",
    "    Parameters:\n",
    "    predicted : array-like - Predicted class labels (0 to n_classes-1)\n",
    "    true : array-like - True class labels (0 to n_classes-1)\n",
    "    \n",
    "    Returns:\n",
    "    numpy.ndarray - Confusion matrix where rows=true, columns=predicted\n",
    "    '''\n",
    "    classes = np.unique(true)\n",
    "    matrix = np.zeros((len(classes), len(classes)), dtype=int)\n",
    "    for t, p in zip(true, predicted):\n",
    "        matrix[t, p] += 1\n",
    "    return matrix\n",
    "\n",
    "# Example data - medical test predictions vs actual conditions\n",
    "np.random.seed(42)\n",
    "true_conditions = np.random.randint(0, 4, 100)  # 4 disease classes (0-3)\n",
    "model_predictions = np.clip(true_conditions + np.random.randint(-1, 2, 100), 0, 3)\n",
    "\n",
    "# Compute confusion matrix\n",
    "cm = make_confusion_matrix(model_predictions, true_conditions)\n",
    "\n",
    "# Convert to readable DataFrame\n",
    "class_names = ['Healthy', 'Mild', 'Moderate', 'Severe']  # Example medical conditions\n",
    "cm_df = pd.DataFrame(cm, \n",
    "                    index=[f\"True {name}\" for name in class_names],\n",
    "                    columns=[f\"Pred {name}\" for name in class_names])\n",
    "\n",
    "print(\"Confusion Matrix:\")\n",
    "print(cm_df)\n",
    "\n",
    "\n"
   ]
  },
  {
   "cell_type": "code",
   "execution_count": 157,
   "metadata": {},
   "outputs": [
    {
     "data": {
      "image/png": "[encoded data removed]",
      "text/plain": [
       "<Figure size 800x600 with 2 Axes>"
      ]
     },
     "metadata": {},
     "output_type": "display_data"
    }
   ],
   "source": [
    "# Implement a funtion to display a heatmap\n",
    "\n",
    "def make_heat_map(data, title):\n",
    "    '''\n",
    "    Creates a heatmap from the 2D matrix input\n",
    "    '''\n",
    "    plt.figure(figsize=(8,6))\n",
    "    plt.imshow(data, cmap='Blues')  # Changed \"matrix\" to \"data\"\n",
    "    plt.title(title)\n",
    "    plt.xlabel('Predicted')\n",
    "    plt.ylabel('True')\n",
    "    plt.colorbar()\n",
    "    for i in range(data.shape[0]):  # Changed \"matrix\" to \"data\"\n",
    "        for j in range(data.shape[1]):  # Changed \"matrix\" to \"data\"\n",
    "            plt.text(j, i, data[i, j], ha='center', va='center')\n",
    "    plt.show()\n",
    "    \n",
    "cm = make_confusion_matrix(y_pred, y_test)\n",
    "make_heat_map(cm, 'Confusion Matrix (Test Set)')"
   ]
  },
  {
   "cell_type": "code",
   "execution_count": 158,
   "metadata": {
    "id": "e2R7EhSkLE8q"
   },
   "outputs": [
    {
     "name": "stdout",
     "output_type": "stream",
     "text": [
      "Precision for each class:\n",
      "A: 0.25\n",
      "B: 0.26\n",
      "C: 0.24\n",
      "D: 0.24\n"
     ]
    }
   ],
   "source": [
    "# Implement a function to compute the precision\n",
    "\n",
    "def calculate_precision(matrix,class_label):\n",
    "    '''\n",
    "    Calculates the precision from a provided confusion matrix\n",
    "    '''\n",
    "    col = matrix[:, class_label]\n",
    "    if np.sum(col) == 0:\n",
    "        return 0\n",
    "    return matrix[class_label, class_label] / np.sum(col)\n",
    "\n",
    "print(\"Precision for each class:\")\n",
    "class_labels = ['A', 'B', 'C', 'D']\n",
    "precisions = []\n",
    "for i in range(4):\n",
    "    prec = calculate_precision(cm, i)\n",
    "    precisions.append(prec)\n",
    "    print(f\"{class_labels[i]}: {prec:.2f}\")\n"
   ]
  },
  {
   "cell_type": "code",
   "execution_count": 159,
   "metadata": {
    "id": "rQwhTwN_LE8r"
   },
   "outputs": [
    {
     "name": "stdout",
     "output_type": "stream",
     "text": [
      "\n",
      "Recall for each class:\n",
      "A: 0.27\n",
      "B: 0.27\n",
      "C: 0.23\n",
      "D: 0.24\n"
     ]
    }
   ],
   "source": [
    "# Implement a function to compute the recall\n",
    "\n",
    "def calculate_recall(matrix,class_label):\n",
    "    '''\n",
    "    Calculates the recall from a provided confusion matrix\n",
    "    '''\n",
    "    row = matrix[class_label, :]\n",
    "    return matrix[class_label, class_label] / np.sum(row)\n",
    "\n",
    "print(\"\\nRecall for each class:\")\n",
    "class_labels = ['A', 'B', 'C', 'D']\n",
    "recalls = []\n",
    "for i in range(4):\n",
    "    rec = calculate_recall(cm, i)\n",
    "    recalls.append(rec)\n",
    "    print(f\"{class_labels[i]}: {rec:.2f}\")"
   ]
  },
  {
   "cell_type": "code",
   "execution_count": 160,
   "metadata": {
    "id": "ZIojB6p-LE8r"
   },
   "outputs": [],
   "source": [
    "# Implement a function to compute the F1 score\n",
    "\n",
    "def calculate_f1_score(precision, recall):\n",
    "    '''\n",
    "    Calculates the F1 score from a provided precision and recall\n",
    "    '''\n",
    "    if precision + recall == 0:\n",
    "        return 0.0  # To avoid division by zero; if both precision and recall are 0, return 0\n",
    "    \n",
    "    f1_score = 2 * (precision * recall) / (precision + recall)\n",
    "    return f1_score"
   ]
  },
  {
   "cell_type": "code",
   "execution_count": 161,
   "metadata": {},
   "outputs": [
    {
     "name": "stdout",
     "output_type": "stream",
     "text": [
      "\n",
      "F1-Scores for each class:\n",
      "A: 0.26\n",
      "B: 0.27\n",
      "C: 0.23\n",
      "D: 0.24\n"
     ]
    }
   ],
   "source": [
    "print(\"\\nF1-Scores for each class:\")\n",
    "class_labels = ['A', 'B', 'C', 'D']\n",
    "f1_scores = []\n",
    "for i in range(4):\n",
    "    prec = calculate_precision(cm, i)\n",
    "    rec = calculate_recall(cm, i)\n",
    "    f1 = calculate_f1_score(prec, rec)\n",
    "    f1_scores.append(f1)\n",
    "    print(f\"{class_labels[i]}: {f1:.2f}\")"
   ]
  },
  {
   "cell_type": "code",
   "execution_count": 162,
   "metadata": {
    "id": "CWvNO7bpLE8r"
   },
   "outputs": [
    {
     "name": "stdout",
     "output_type": "stream",
     "text": [
      "Macro F1 Score: 0.25\n"
     ]
    }
   ],
   "source": [
    "# Implement a function to compute the Macro-average F1\n",
    "\n",
    "def macro_average_f1(matrix):\n",
    "    '''\n",
    "    Calculates the macro-average F1 score from a provided confusion matrix, over all classes\n",
    "    '''\n",
    "    f1_scores = []\n",
    "    for i in range(matrix.shape[0]):\n",
    "        prec = calculate_precision(matrix, i)\n",
    "        rec = calculate_recall(matrix, i)\n",
    "        f1 = calculate_f1_score(prec, rec)\n",
    "        f1_scores.append(f1)\n",
    "    return np.mean(f1_scores)\n",
    "\n",
    "macro_f1 = macro_average_f1(cm)\n",
    "print(f\"Macro F1 Score: {macro_f1:.2f}\")"
   ]
  },
  {
   "cell_type": "markdown",
   "metadata": {
    "id": "NxKdfkh8LE8r"
   },
   "source": [
    "## Step 6: k-fold Cross Validation\n",
    "\n",
    "\n",
    "Now with the basics done, you can move on to the next step: `k`-fold Cross Validation. This is a more robust way of evaluating your model since it uses all the data for training and testing (effectively giving you `k` chances to verify the generalizability of your model).\n",
    "\n",
    "Now, implement a function that performs `k`-fold cross-validation on the training data for a specified value of `k`.\n",
    "\n",
    "In Cross Validation, you divide the dataset into `k` parts. `k-1` parts will be used for training and `1` part will be used for validation. You will repeat this process `k` times, each time using a different part for validation. You will then average the results of each fold to get the final result. Take a look at the image above for a better understanding.\n",
    "\n",
    "The function should return **predictions** for the **entire training data** (size of list/array should be equal to the size of the dataset). This is the result of appending the predicted labels for each validation-train split into a single list/array. Make sure the order of the predicted labels matches the order of the training dataset, so that they may directly be passed to your `evaluate` function together with the actual labels."
   ]
  },
  {
   "cell_type": "code",
   "execution_count": 163,
   "metadata": {
    "id": "OU7wmVx_LE8r"
   },
   "outputs": [],
   "source": [
    "# Implement a function that creates the train and test splits based off the value of k\n",
    "\n",
    "def k_fold_split(k, cv_no, data):\n",
    "    '''\n",
    "    Returns the training and validation sets for a given value of k\n",
    "\n",
    "    Parameters\n",
    "    ----------\n",
    "    k : int\n",
    "        The value of k\n",
    "    cv_no : int\n",
    "        The current fold number\n",
    "    data : array\n",
    "        The dataset\n",
    "    '''\n",
    "    fold_size = len(data) // k\n",
    "    val_start = cv_no * fold_size\n",
    "    val_end = (cv_no + 1) * fold_size\n",
    "    val_data = data[val_start:val_end]\n",
    "    train_data = np.concatenate([data[:val_start], data[val_end:]])\n",
    "    return train_data, val_data"
   ]
  },
  {
   "cell_type": "code",
   "execution_count": 164,
   "metadata": {
    "id": "TAZ_JF2eLE8r"
   },
   "outputs": [],
   "source": [
    "# Implement function to perform k-fold cross-validation, using the above function\n",
    "\n",
    "def k_fold_cross_validation(num_folds, k, X, y, distance_metric):\n",
    "    \"\"\"\n",
    "    Returns the predictions for all the data points in the dataset using k-fold cross validation\n",
    "\n",
    "    num_folds: int\n",
    "      Number of folds\n",
    "    k: int\n",
    "      Number of neighbours to consider (hyperparameter)\n",
    "    dataset: array\n",
    "      The dataset\n",
    "    \"\"\"\n",
    "    fold_size = len(X) // num_folds\n",
    "    predictions = np.zeros_like(y)\n",
    "    for i in range(num_folds):\n",
    "        start = i * fold_size\n",
    "        end = (i + 1) * fold_size\n",
    "        X_val = X[start:end]\n",
    "        y_val = y[start:end]\n",
    "        X_train = np.concatenate([X[:start], X[end:]])\n",
    "        y_train = np.concatenate([y[:start], y[end:]])\n",
    "        model = KNNClassifier(k, distance_metric)\n",
    "        model.fit(X_train, y_train)\n",
    "        pred = model.predict(X_val)\n",
    "        predictions[start:end] = pred\n",
    "    return predictions\n",
    "\n",
    "\n",
    "\n"
   ]
  },
  {
   "cell_type": "markdown",
   "metadata": {
    "id": "7fXBWbSTLE8r"
   },
   "source": [
    "## Step 7: Running the k-NN Classifier and Evaluating\n",
    "Now let's predict the test data and evaluate the model."
   ]
  },
  {
   "cell_type": "code",
   "execution_count": 176,
   "metadata": {
    "id": "flSl6tyCLE8r"
   },
   "outputs": [
    {
     "name": "stdout",
     "output_type": "stream",
     "text": [
      "\n",
      "Test Accuracy (Euclidean): 0.57\n"
     ]
    }
   ],
   "source": [
    "# Set value of k\n",
    "k = 5\n",
    "\n",
    "# Make predictions on test data\n",
    "\n",
    "# Calculate accuracy\n",
    "k = 5\n",
    "model = KNNClassifier(k, euclidean_distance)\n",
    "model.fit(X_train, y_train)\n",
    "y_pred = model.predict(X_test)\n",
    "accuracy = calculate_accuracy(y_pred, y_test)\n",
    "print(f\"\\nTest Accuracy (Euclidean): {accuracy:.2f}\")\n"
   ]
  },
  {
   "cell_type": "code",
   "execution_count": 177,
   "metadata": {},
   "outputs": [
    {
     "name": "stdout",
     "output_type": "stream",
     "text": [
      "\n",
      "Test Accuracy (Manhattan): 0.58\n"
     ]
    }
   ],
   "source": [
    "# Set value of k\n",
    "k = 5\n",
    "\n",
    "# Initialize KNN with Manhattan distance\n",
    "model_manhattan = KNNClassifier(k, manhattan_distance)\n",
    "model_manhattan.fit(X_train, y_train)\n",
    "\n",
    "# Make predictions\n",
    "y_pred_manhattan = model_manhattan.predict(X_test)\n",
    "\n",
    "# Calculate accuracy\n",
    "accuracy_manhattan = calculate_accuracy(y_pred_manhattan, y_test)\n",
    "print(f\"\\nTest Accuracy (Manhattan): {accuracy_manhattan:.2f}\")"
   ]
  },
  {
   "cell_type": "markdown",
   "metadata": {
    "id": "zQb-KcCRLE8r"
   },
   "source": [
    "## **Part 2: K-Nearest Neighbors (KNN) using Scikit-Learn (25 marks)**\n",
    "In this part, you have to use [scikit-learn's k-NN implementation](https://scikit-learn.org/stable/modules/generated/sklearn.neighbors.KNeighborsClassifier.html) to train and test your classifier on the dataset used in Part 1.\n",
    "\n",
    "Repeat the tasks you have done in Part 1 but this time using scikit-learn.\n",
    "\n",
    "## Tasks for Part 2\n",
    "- Load the dataset\n",
    "- Preprocess the data by separating the features and labels\n",
    "- Split the data into training and testing sets.\n",
    "- Build a k-NN classifier using scikit-learn\n",
    "- Evaluate the performance using accuracy\n",
    "\n",
    "### Importing Libraries"
   ]
  },
  {
   "cell_type": "code",
   "execution_count": 178,
   "metadata": {
    "id": "Q8GcO--LLE8r"
   },
   "outputs": [],
   "source": [
    "import pandas as pd\n",
    "import numpy as np\n",
    "from sklearn.neighbors import KNeighborsClassifier\n",
    "from sklearn.model_selection import train_test_split\n",
    "from sklearn.metrics import accuracy_score\n",
    "from sklearn.model_selection import cross_val_score"
   ]
  },
  {
   "cell_type": "markdown",
   "metadata": {
    "id": "E9v6VFgFLE8r"
   },
   "source": [
    "## Step 1: Load the Body Performance Dataset\n",
    "You can use the `pandas` library to load the CSV file but the final dataset should be stored in a `numpy` array.\n",
    "\n",
    "`Features:` age, gender , height_cm, weight_kg, body fat_%, diastolic, systolic, gripForce, sit and bend forward_cm, sit-ups counts, broad jump_cm\n",
    "\n",
    "\n",
    "`Labels:` class : A,B,C,D ( A: best) / stratified"
   ]
  },
  {
   "cell_type": "code",
   "execution_count": 167,
   "metadata": {
    "id": "Ii_GiurjLE8r"
   },
   "outputs": [
    {
     "name": "stdout",
     "output_type": "stream",
     "text": [
      "Dataset preview:\n",
      "    age  gender  height_cm  weight_kg  body fat_%  diastolic  systolic  \\\n",
      "0  27.0       1      172.3      75.24        21.3       80.0     130.0   \n",
      "1  25.0       1      165.0      55.80        15.7       77.0     126.0   \n",
      "2  31.0       1      179.6      78.00        20.1       92.0     152.0   \n",
      "3  32.0       1      174.5      71.10        18.4       76.0     147.0   \n",
      "4  28.0       1      173.8      67.70        17.1       70.0     127.0   \n",
      "\n",
      "   gripForce  sit and bend forward_cm  sit-ups counts  broad jump_cm  class  \n",
      "0       54.9                     18.4            60.0          217.0      2  \n",
      "1       36.4                     16.3            53.0          229.0      0  \n",
      "2       44.8                     12.0            49.0          181.0      2  \n",
      "3       41.4                     15.2            53.0          219.0      1  \n",
      "4       43.5                     27.1            45.0          217.0      1  \n"
     ]
    }
   ],
   "source": [
    "# Load the Body Performance dataset\n",
    "data = pd.read_csv('bodyPerformance.csv')\n",
    "data['gender'] = data['gender'].map({'F': 0, 'M': 1})\n",
    "data['class'] = data['class'].map({'A': 0, 'B': 1, 'C': 2, 'D': 3})\n",
    "\n",
    "# Display the first few rows of the dataset\n",
    "print(\"Dataset preview:\")\n",
    "print(data.head())\n",
    "\n",
    "# Separate features and labels\n",
    "features = data[['age', 'gender', 'height_cm', 'weight_kg', 'body fat_%', 'diastolic',\n",
    "          'systolic', 'gripForce', 'sit and bend forward_cm', 'sit-ups counts', 'broad jump_cm']].to_numpy()\n",
    "\n",
    "labels = data['class'].to_numpy()"
   ]
  },
  {
   "cell_type": "markdown",
   "metadata": {
    "id": "AzGYCz7WLE8r"
   },
   "source": [
    "## Step 2: Split the Data into Training and Testing Sets"
   ]
  },
  {
   "cell_type": "code",
   "execution_count": 168,
   "metadata": {
    "id": "ibhA-uyOLE8r"
   },
   "outputs": [
    {
     "name": "stdout",
     "output_type": "stream",
     "text": [
      "Training set size: 10714\n",
      "Testing set size: 2679\n"
     ]
    }
   ],
   "source": [
    "# Split the dataset into training and testing sets\n",
    "\n",
    "X_train, X_test, y_train, y_test = train_test_split(features, labels, test_size=0.2, random_state=42)\n",
    "\n",
    "print(f'Training set size: {len(X_train)}')\n",
    "print(f'Testing set size: {len(X_test)}')"
   ]
  },
  {
   "cell_type": "markdown",
   "metadata": {
    "id": "ztfb4HIMLE8s"
   },
   "source": [
    "## Step 3: k-NN Classifier\n",
    "Implementation of k-NN using scikit-learn's built-in `KNeighborsClassifier`"
   ]
  },
  {
   "cell_type": "code",
   "execution_count": 172,
   "metadata": {
    "id": "izdZnqBdLE8s"
   },
   "outputs": [
    {
     "name": "stdout",
     "output_type": "stream",
     "text": [
      "predict labels (Euclidean): [3 0 0 ... 0 0 2]\n",
      "Test Accuracy (Euclidean): 0.54\n",
      "predict labels (Manhattan): [3 0 0 ... 0 0 2]\n",
      "Test Accuracy (Manhattan): 0.55\n"
     ]
    }
   ],
   "source": [
    "# Create an instance of the KNeighborsClassifier with k=3\n",
    "\n",
    "# Fit the model on the training data\n",
    "\n",
    "# Predict the labels on the test data\n",
    "\n",
    "k = 3\n",
    "\n",
    "# Euclidean Distance\n",
    "model_euclidean = KNeighborsClassifier(n_neighbors=k, metric='euclidean')\n",
    "model_euclidean.fit(X_train, y_train)\n",
    "y_pred_euclidean = model_euclidean.predict(X_test)\n",
    "accuracy_euclidean = accuracy_score(y_test, y_pred_euclidean)\n",
    "print(f\"predict labels (Euclidean): {y_pred_euclidean}\")\n",
    "print(f\"Test Accuracy (Euclidean): {accuracy_euclidean:.2f}\")\n",
    "\n",
    "# Manhattan Distance\n",
    "model_manhattan = KNeighborsClassifier(n_neighbors=k, metric='manhattan')\n",
    "model_manhattan.fit(X_train, y_train)\n",
    "y_pred_manhattan = model_manhattan.predict(X_test)\n",
    "accuracy_manhattan = accuracy_score(y_test, y_pred_manhattan)\n",
    "print(f\"predict labels (Manhattan): {y_pred_manhattan}\")\n",
    "print(f\"Test Accuracy (Manhattan): {accuracy_manhattan:.2f}\")"
   ]
  },
  {
   "cell_type": "markdown",
   "metadata": {
    "id": "GFo4b4AuLE8s"
   },
   "source": [
    "## Step 4: Calculate Accuracy\n",
    "Calculate and print the accuracy of the scikit-learn k-NN classifier"
   ]
  },
  {
   "cell_type": "code",
   "execution_count": 170,
   "metadata": {
    "id": "Q-dofTRPLE8s"
   },
   "outputs": [
    {
     "name": "stdout",
     "output_type": "stream",
     "text": [
      "Test Accuracy: 0.25\n"
     ]
    }
   ],
   "source": [
    "# Calculate and print the accuracy of the scikit-learn k-NN classifier\n",
    "\n",
    "accuracy = accuracy_score(y_test, y_pred)\n",
    "print(f'Test Accuracy: {accuracy:.2f}')"
   ]
  },
  {
   "cell_type": "markdown",
   "metadata": {
    "id": "mFIUtH72LE8s"
   },
   "source": [
    "## Step 5: Evaluate the Model using Cross-Validation\n",
    "- Perform 5-fold cross-validation on your KNN implementation. Use `k=3` for your initial experiments.\n",
    "- Evaluate the performance using accuracy."
   ]
  },
  {
   "cell_type": "code",
   "execution_count": 171,
   "metadata": {
    "id": "KmAL_EROLE8v"
   },
   "outputs": [
    {
     "name": "stdout",
     "output_type": "stream",
     "text": [
      "Cross-Validation Scores: [0.54923005 0.53289781 0.54129725 0.52869809 0.53781513]\n",
      "Mean CV Accuracy: 0.54\n"
     ]
    }
   ],
   "source": [
    "# Perform cross-validation and evaluate\n",
    "knn_cv = KNeighborsClassifier(n_neighbors=3)\n",
    "cv_scores = cross_val_score(\n",
    "    estimator=knn_cv,\n",
    "    X=X_train,  # Training features\n",
    "    y=y_train,  # Training labels\n",
    "    cv=5,       # Number of folds\n",
    "    scoring='accuracy'\n",
    ")\n",
    "\n",
    "# Calculate and display results\n",
    "print(\"Cross-Validation Scores:\", cv_scores)\n",
    "print(f\"Mean CV Accuracy: {cv_scores.mean():.2f}\")\n"
   ]
  },
  {
   "cell_type": "markdown",
   "metadata": {
    "id": "SF1djDTlLE8v"
   },
   "source": [
    "## **Conlusion**\n",
    "- Summarize your findings\n",
    "- Which distance metric performed better?\n",
    "- How does the performance of your implementation from scratch compare with the built-in KNN classifier?\n"
   ]
  },
  {
   "cell_type": "markdown",
   "metadata": {
    "id": "5-L9C5RcLE8v"
   },
   "source": [
    "Euclidean distance generally performed well and is the most suitable for continuous features in this dataset. However,Manhattan distance slightly outperformed the Euclidean distance in both implementations\n",
    "\n",
    "Scikit-learn simplifies tasks like cross-validation\n",
    "\n",
    "Scikit-learn’s built-in k-NN classifier is faster, more memory-efficient, and more scalable for larger datasets.\n",
    "\n",
    "For real-world applications, scikit-learn’s built-in classifier is the better choice due to its ease of use, efficiency, and reliable performance.\n",
    "\n",
    "Using Scikit:\n",
    "Test Accuracy (Euclidean): 0.54 ,Test Accuracy (Manhattan): 0.55\n",
    "\n",
    "Without Scikit:\n",
    "Test Accuracy (Euclidean): 0.57, Test Accuracy (Manhattan): 0.58 , More accuracy\n"
   ]
  },
  {
   "cell_type": "code",
   "execution_count": null,
   "metadata": {},
   "outputs": [],
   "source": []
  }
 ],
 "metadata": {
  "colab": {
   "provenance": []
  },
  "kernelspec": {
   "display_name": "Python 3 (ipykernel)",
   "language": "python",
   "name": "python3"
  },
  "language_info": {
   "codemirror_mode": {
    "name": "ipython",
    "version": 3
   },
   "file_extension": ".py",
   "mimetype": "text/x-python",
   "name": "python",
   "nbconvert_exporter": "python",
   "pygments_lexer": "ipython3",
   "version": "3.12.5"
  }
 },
 "nbformat": 4,
 "nbformat_minor": 4
}
